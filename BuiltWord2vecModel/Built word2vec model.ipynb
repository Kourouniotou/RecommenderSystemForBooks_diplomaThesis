{
 "cells": [
  {
   "cell_type": "markdown",
   "metadata": {},
   "source": [
    "### We will build word2vec models so that we can evaluate the topics created by the LDA model"
   ]
  },
  {
   "cell_type": "code",
   "execution_count": 26,
   "metadata": {},
   "outputs": [
    {
     "name": "stderr",
     "output_type": "stream",
     "text": [
      "[nltk_data] Downloading package punkt to\n",
      "[nltk_data]     C:\\Users\\tasos\\AppData\\Roaming\\nltk_data...\n",
      "[nltk_data]   Package punkt is already up-to-date!\n",
      "[nltk_data] Downloading package stopwords to\n",
      "[nltk_data]     C:\\Users\\tasos\\AppData\\Roaming\\nltk_data...\n",
      "[nltk_data]   Package stopwords is already up-to-date!\n"
     ]
    }
   ],
   "source": [
    "%run ../LibrariesAndFunctions/LibrariesFunctions.ipynb"
   ]
  },
  {
   "cell_type": "code",
   "execution_count": 27,
   "metadata": {},
   "outputs": [
    {
     "data": {
      "text/plain": [
       "(106432, 25)"
      ]
     },
     "execution_count": 27,
     "metadata": {},
     "output_type": "execute_result"
    }
   ],
   "source": [
    "bookDataset = pd.read_csv(\"../Datasets/bookDataset.csv\")\n",
    "bookDataset.shape"
   ]
  },
  {
   "cell_type": "code",
   "execution_count": 13,
   "metadata": {},
   "outputs": [],
   "source": [
    "bookDataset[\"TokenLemNounsBigramTrigramRemStopWords\"] = bookDataset[\"TokenLemNounsBigramTrigramRemStopWords\"].apply(strToListOfStrs)"
   ]
  },
  {
   "cell_type": "code",
   "execution_count": 14,
   "metadata": {},
   "outputs": [],
   "source": [
    "word2vecDescTitle10 = gensim.models.Word2Vec(\n",
    "    window=10,\n",
    "    min_count=5,\n",
    "    workers=4,\n",
    "    size = 200\n",
    ")\n",
    "\n",
    "word2vecDescTitle10.build_vocab(bookDataset[\"TokenLemNounsBigramTrigramRemStopWords\"])\n",
    "\n",
    "word2vecDescTitle10.corpus_count\n",
    "\n",
    "word2vecDescTitle10.train(bookDataset[\"TokenLemNounsBigramTrigramRemStopWords\"], total_examples=word2vecDescTitle10.corpus_count, epochs=1000)\n",
    "\n",
    "word2vecDescTitle10.save(\"../Word2Vec Models/word2vecDescTitle10.model\")"
   ]
  },
  {
   "cell_type": "code",
   "execution_count": 16,
   "metadata": {},
   "outputs": [],
   "source": [
    "word2vecDescTitle20 = gensim.models.Word2Vec(\n",
    "    window=20,\n",
    "    min_count=5,\n",
    "    workers=4,\n",
    "    size = 200\n",
    ")\n",
    "\n",
    "word2vecDescTitle20.build_vocab(bookDataset[\"TokenLemNounsBigramTrigramRemStopWords\"])\n",
    "\n",
    "word2vecDescTitle20.corpus_count\n",
    "\n",
    "word2vecDescTitle20.train(bookDataset[\"TokenLemNounsBigramTrigramRemStopWords\"], total_examples=word2vecDescTitle20.corpus_count, epochs=1000)\n",
    "\n",
    "word2vecDescTitle20.save(\"../Word2Vec Models/word2vecDescTitle20.model\")"
   ]
  },
  {
   "cell_type": "code",
   "execution_count": null,
   "metadata": {},
   "outputs": [],
   "source": []
  }
 ],
 "metadata": {
  "kernelspec": {
   "display_name": "Python 3",
   "language": "python",
   "name": "python3"
  },
  "language_info": {
   "codemirror_mode": {
    "name": "ipython",
    "version": 3
   },
   "file_extension": ".py",
   "mimetype": "text/x-python",
   "name": "python",
   "nbconvert_exporter": "python",
   "pygments_lexer": "ipython3",
   "version": "3.8.5"
  },
  "latex_envs": {
   "LaTeX_envs_menu_present": true,
   "autoclose": false,
   "autocomplete": true,
   "bibliofile": "biblio.bib",
   "cite_by": "apalike",
   "current_citInitial": 1,
   "eqLabelWithNumbers": true,
   "eqNumInitial": 1,
   "hotkeys": {
    "equation": "Ctrl-E",
    "itemize": "Ctrl-I"
   },
   "labels_anchors": false,
   "latex_user_defs": false,
   "report_style_numbering": false,
   "user_envs_cfg": false
  }
 },
 "nbformat": 4,
 "nbformat_minor": 5
}
